{
 "cells": [
  {
   "cell_type": "markdown",
   "metadata": {},
   "source": [
    "# Homework 5"
   ]
  },
  {
   "cell_type": "markdown",
   "metadata": {},
   "source": [
    "By Yanhao Miao"
   ]
  },
  {
   "cell_type": "markdown",
   "metadata": {},
   "source": [
    "## Question 1 Algorithmic questions"
   ]
  },
  {
   "cell_type": "markdown",
   "metadata": {},
   "source": [
    "Find the kth largest element in an unsorted array. Note that it is the kth largest element in the sorted order, not the kth distinct element."
   ]
  },
  {
   "cell_type": "markdown",
   "metadata": {},
   "source": [
    "Here, I use a minimum heap of size k. As we iterate the array, when the heap hasn't been full, we directly add an element to the heap (we need to sift up). After the heap is full, we compare the new element with the top of this heap (the current minimum). If the new element is greater than the top element, we pop out the top and add the new element, then sift down to maintain the heap order. Otherwise, we just move on to the next element. In this way, we can achieve the kth largest element by simply retrieve the top element of the heap after the tranversal. The time complexity will be O(nlog(k)), because the 'sift' algorithm requires O(log(k)) and suppose there are totally n elements in the array. "
   ]
  },
  {
   "cell_type": "code",
   "execution_count": 30,
   "metadata": {},
   "outputs": [],
   "source": [
    "class Heap(object):\n",
    "    # create a class to implement a minimum heap, use array structure\n",
    "    \n",
    "    def __init__(self, max_size):\n",
    "        # here we set a guard in the position 0, to simplify the sift algo\n",
    "        # then the heap array starts from index 1\n",
    "        self.heap = [float(\"-inf\")]  \n",
    "        self.max_size = max_size\n",
    "\n",
    "    def __len__(self):\n",
    "        # the length should not include index 0\n",
    "        return len(self.heap) - 1\n",
    "\n",
    "    def siftup(self):\n",
    "        # to make the last element 'sift up' to its correct position\n",
    "        \n",
    "        pos = len(self)                     \n",
    "        x = self.heap[-1] # retrieve the value of the last element  \n",
    "        \n",
    "        # when the index is 0, x is surely smaller than math.inf, exit the loop\n",
    "        while x < self.heap[int(pos/2)]:\n",
    "            self.heap[pos] = self.heap[int(pos/2)]\n",
    "            pos = int(pos/2)\n",
    "        self.heap[pos] = x\n",
    "\n",
    "    def siftdown(self, idx):\n",
    "        # to make the element with index 'idx' to its correct position\n",
    "        \n",
    "        temp = self.heap[idx]\n",
    "        length = len(self)\n",
    "        \n",
    "        while True:\n",
    "            child_idx = idx * 2 \n",
    "            if child_idx > length:\n",
    "                break\n",
    "\n",
    "            # compare the current element with its right child (if exists), otherwise its left child\n",
    "            if child_idx != length and self.heap[child_idx] > self.heap[child_idx + 1]:\n",
    "                child_idx += 1\n",
    "            if temp > self.heap[child_idx]:\n",
    "                self.heap[idx] = self.heap[child_idx]\n",
    "            else:\n",
    "                break  \n",
    "            idx = child_idx\n",
    "        # swap\n",
    "        self.heap[idx] = temp\n",
    "        \n",
    "    def top(self):\n",
    "        # obtain the top element\n",
    "        if not len(self):\n",
    "            print(\"Empty Heap!\")\n",
    "        return self.heap[1]\n",
    "\n",
    "    def update(self, idx, key):\n",
    "        # update the position 'idx' to be 'key'\n",
    "        if idx > len(self) or idx < 1:\n",
    "            print(\"Index out of range!\")\n",
    "            return\n",
    "        self.heap[idx] = key\n",
    "        self.siftdown(idx)\n",
    "    \n",
    "    def insert(self, val):\n",
    "        # insert a value to the heap\n",
    "        \n",
    "        # check whether there are enough space\n",
    "        if not len(self) + 1 <= self.max_size:\n",
    "            print(\"Heap overflow!\")\n",
    "            return\n",
    "        \n",
    "        (self.heap).append(val)\n",
    "        self.siftup()\n"
   ]
  },
  {
   "cell_type": "code",
   "execution_count": 37,
   "metadata": {},
   "outputs": [],
   "source": [
    "# define the function\n",
    "def get_largest_num(nums,k):\n",
    "    myheap = Heap(k)\n",
    "    \n",
    "    for x in nums[0:k]:\n",
    "        myheap.insert(x)\n",
    "    \n",
    "    for x in nums[k:]:\n",
    "        if myheap.top() < x:\n",
    "            myheap.update(1, x)\n",
    "    \n",
    "    return myheap.top()"
   ]
  },
  {
   "cell_type": "markdown",
   "metadata": {},
   "source": [
    "To use heapq:"
   ]
  },
  {
   "cell_type": "code",
   "execution_count": 36,
   "metadata": {},
   "outputs": [],
   "source": [
    "import heapq\n",
    "\n",
    "def get_largest_num2(nums, k):\n",
    "    \n",
    "    if k > len(nums) or k < 1:\n",
    "        print(\"Index out of range!\")\n",
    "    \n",
    "    heap = nums[:k]\n",
    "    heapq.heapify(heap)\n",
    "    \n",
    "    for num in nums[k:]:\n",
    "        if num > heap[0]:\n",
    "            heapq.heappushpop(heap, num)\n",
    "    \n",
    "    # Heap root is the kth largest element\n",
    "    return heap[0]"
   ]
  },
  {
   "cell_type": "code",
   "execution_count": 46,
   "metadata": {},
   "outputs": [
    {
     "name": "stdout",
     "output_type": "stream",
     "text": [
      "4\n",
      "5\n",
      "7\n",
      "1\n",
      "9490\n",
      "9490\n"
     ]
    }
   ],
   "source": [
    "# Test cases for the first version\n",
    "\n",
    "# the sample case provided in the problem\n",
    "print(get_largest_num([3,2,3,1,2,4,5,5,6],4))\n",
    "print(get_largest_num([3,2,1,5,6,4], 2))\n",
    "\n",
    "# only one element\n",
    "print(get_largest_num([7], 1))\n",
    "\n",
    "# all the elements are the same\n",
    "nums = [1 for i in range(10000)]\n",
    "print(get_largest_num2(nums, 100))\n",
    "\n",
    "# large number of elements, and compare with heapq.nlargest\n",
    "import random\n",
    "\n",
    "nums = [random.randint(1, 10000) for i in range(10000)]\n",
    "k = 500\n",
    "print(get_largest_num(nums, k))\n",
    "print(heapq.nlargest(k, nums)[-1])"
   ]
  },
  {
   "cell_type": "code",
   "execution_count": 47,
   "metadata": {},
   "outputs": [
    {
     "name": "stdout",
     "output_type": "stream",
     "text": [
      "4\n",
      "5\n",
      "7\n",
      "1\n",
      "9503\n",
      "9503\n"
     ]
    }
   ],
   "source": [
    "# Test cases for the second version\n",
    "\n",
    "# the sample case provided in the problem\n",
    "print(get_largest_num2([3,2,3,1,2,4,5,5,6],4))\n",
    "print(get_largest_num2([3,2,1,5,6,4], 2))\n",
    "\n",
    "# only one element\n",
    "print(get_largest_num2([7], 1))\n",
    "\n",
    "# all the elements are the same\n",
    "nums = [1 for i in range(10000)]\n",
    "print(get_largest_num2(nums, 100))\n",
    "\n",
    "# large number of elements, and compare with heapq.nlargest\n",
    "import random\n",
    "\n",
    "nums = [random.randint(1, 10000) for i in range(10000)]\n",
    "k = 500\n",
    "print(get_largest_num2(nums, k))\n",
    "print(heapq.nlargest(k, nums)[-1])"
   ]
  },
  {
   "cell_type": "markdown",
   "metadata": {},
   "source": [
    "# Question 2 Multithreading pop"
   ]
  },
  {
   "cell_type": "markdown",
   "metadata": {},
   "source": [
    "Using python data structure Queue, generate a queue that have 10000 elements. Then use 1, 5, 20 threads to pop out the elements out. Compare the efficiency when you use different number of threads and explain why you see the pattern of performance."
   ]
  },
  {
   "cell_type": "code",
   "execution_count": 49,
   "metadata": {},
   "outputs": [],
   "source": [
    "import threading\n",
    "import queue\n",
    "import time\n",
    "\n",
    "# generate a queue that have 10000 elements\n",
    "def generate_q():\n",
    "    q = queue.Queue()\n",
    "    for num in range(10000):\n",
    "        q.put(num)\n",
    "    return q\n",
    "\n",
    "def thread_function(name,thread_num):\n",
    "    tasks = q.qsize()\n",
    "    for i in range(tasks // thread_num):\n",
    "        q.get()"
   ]
  },
  {
   "cell_type": "code",
   "execution_count": 51,
   "metadata": {},
   "outputs": [
    {
     "name": "stdout",
     "output_type": "stream",
     "text": [
      "CPU times: user 20.5 ms, sys: 886 µs, total: 21.4 ms\n",
      "Wall time: 20.8 ms\n",
      "CPU times: user 12.5 ms, sys: 420 µs, total: 12.9 ms\n",
      "Wall time: 12.8 ms\n",
      "CPU times: user 13.8 ms, sys: 941 µs, total: 14.7 ms\n",
      "Wall time: 14.5 ms\n"
     ]
    }
   ],
   "source": [
    "def multithread_pop(q, thread_num):\n",
    "    # create a list to store all the threads\n",
    "    threads = []\n",
    "    for i in range(thread_num):\n",
    "            # set up a thread\n",
    "            t = threading.Thread(target = thread_function, args=(q, thread_num))\n",
    "            threads.append(t)\n",
    "            t.start()\n",
    "    # collect the result    \n",
    "    for t in threads:\n",
    "            t.join()\n",
    "            \n",
    "q = generate_q()\n",
    "%time multithread_pop(q, 1)\n",
    "q = generate_q()\n",
    "%time multithread_pop(q, 5)\n",
    "q = generate_q()\n",
    "%time multithread_pop(q, 20)"
   ]
  },
  {
   "cell_type": "markdown",
   "metadata": {},
   "source": [
    "It seems that python is not very efficient at multi-thread programming. Because if we continuously increase the number of threads, the efficiency doesn't improve much or even lower."
   ]
  }
 ],
 "metadata": {
  "kernelspec": {
   "display_name": "Python 3",
   "language": "python",
   "name": "python3"
  },
  "language_info": {
   "codemirror_mode": {
    "name": "ipython",
    "version": 3
   },
   "file_extension": ".py",
   "mimetype": "text/x-python",
   "name": "python",
   "nbconvert_exporter": "python",
   "pygments_lexer": "ipython3",
   "version": "3.7.6"
  }
 },
 "nbformat": 4,
 "nbformat_minor": 4
}
