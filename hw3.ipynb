{
 "cells": [
  {
   "cell_type": "markdown",
   "metadata": {},
   "source": [
    "# Homework 3"
   ]
  },
  {
   "cell_type": "code",
   "execution_count": null,
   "metadata": {},
   "outputs": [],
   "source": [
    "By Yanhao Miao"
   ]
  },
  {
   "cell_type": "markdown",
   "metadata": {},
   "source": [
    "1. Read the code below and rewrite it using only numpy functions (without for loop, if-else statements). Benchmark your implementation. How much is it faster than the naive python implementation? (hint: use np.isin)"
   ]
  },
  {
   "cell_type": "code",
   "execution_count": 3,
   "metadata": {},
   "outputs": [],
   "source": [
    "def func1(names, db):\n",
    "    idx = []\n",
    "    for i in names:\n",
    "        if i in db:\n",
    "            idx.append(db.index(i))\n",
    "    return idx"
   ]
  },
  {
   "cell_type": "code",
   "execution_count": 21,
   "metadata": {},
   "outputs": [],
   "source": [
    "import numpy as np\n",
    "\n",
    "def func2(names, db):\n",
    "    np_names = np.array(names)\n",
    "    np_db = np.array(db)\n",
    "    idx = np.arange(len(db))\n",
    "    return idx[np.isin(np_db, np_names)]"
   ]
  },
  {
   "cell_type": "code",
   "execution_count": 22,
   "metadata": {},
   "outputs": [
    {
     "name": "stdout",
     "output_type": "stream",
     "text": [
      "[0, 3, 6, 9, 12, 15, 18, 21, 24, 27, 30, 33, 36, 39, 42, 45, 48]\n",
      "[ 0  3  6  9 12 15 18 21 24 27 30 33 36 39 42 45 48]\n"
     ]
    }
   ],
   "source": [
    "# A simple test\n",
    "names = list(range(1,100,3))\n",
    "db = list(range(1,100,2))\n",
    "print(func1(names, db))\n",
    "print(func2(names, db))"
   ]
  },
  {
   "cell_type": "code",
   "execution_count": 23,
   "metadata": {},
   "outputs": [
    {
     "name": "stdout",
     "output_type": "stream",
     "text": [
      "CPU times: user 800 ms, sys: 2.25 ms, total: 802 ms\n",
      "Wall time: 803 ms\n",
      "CPU times: user 4.5 ms, sys: 444 µs, total: 4.94 ms\n",
      "Wall time: 4.8 ms\n"
     ]
    },
    {
     "data": {
      "text/plain": [
       "array([   0,    3,    6, ..., 4992, 4995, 4998])"
      ]
     },
     "execution_count": 23,
     "metadata": {},
     "output_type": "execute_result"
    }
   ],
   "source": [
    "# Compare the time cost\n",
    "names = list(range(1,10000,3))\n",
    "db = list(range(1,100000,2))\n",
    "%time func1(names, db)\n",
    "%time func2(names, db)"
   ]
  },
  {
   "cell_type": "markdown",
   "metadata": {},
   "source": [
    "It's obvious that 'func2' is much more faster than the naive 'func1'."
   ]
  },
  {
   "cell_type": "markdown",
   "metadata": {},
   "source": [
    "2. Use only numpy functions (without for loop, if-else statements) to find the largest 3 distances between points if either points is inside the circle of raidus r0. Then return these points. E.g."
   ]
  },
  {
   "cell_type": "code",
   "execution_count": 88,
   "metadata": {},
   "outputs": [],
   "source": [
    "def search_pairs(coordinates, circle_r0):\n",
    "    # calculate distance between pairs, into a symmetric matrix\n",
    "    pair_dists = np.linalg.norm(coordinates[:, np.newaxis, :] - coordinates, axis=2)\n",
    "    \n",
    "    # obtains the points inside r0\n",
    "    points_in_r0 = np.linalg.norm(coordinates, axis=1) < circle_r0\n",
    "    \n",
    "    # 'Either points is inside', so we use 'Xor'\n",
    "    mask = points_in_r0[:, np.newaxis] ^ points_in_r0\n",
    "    \n",
    "    # we only need to consider the lower triangle, to obtain the largest 3 distances\n",
    "    pair_dists = np.tril(pair_dists, k = -1)\n",
    "    mask_lower = np.tril(np.ones_like(mask), k = -1)\n",
    "    uniq_dists = pair_dists[mask & mask_lower]\n",
    "    \n",
    "    # get the three largest distances\n",
    "    three_largest = np.partition(uniq_dists, -3)[-3:]\n",
    "    # find the index\n",
    "    index = np.where(np.isin(pair_dists, three_largest))\n",
    "    return np.transpose(index)"
   ]
  },
  {
   "cell_type": "code",
   "execution_count": 87,
   "metadata": {},
   "outputs": [
    {
     "name": "stdout",
     "output_type": "stream",
     "text": [
      "[[2 1]\n",
      " [3 0]\n",
      " [3 1]]\n"
     ]
    }
   ],
   "source": [
    "coordinates = np.array(\n",
    "[[0.968, 0.313],\n",
    " [0.692, 0.876],\n",
    " [0.895, 0.085],\n",
    " [0.039, 0.17 ],\n",
    " [0.878, 0.098]]\n",
    ")\n",
    "cirle_r0 = 0.9\n",
    "print(search_pairs(coordinates, cirle_r0))\n",
    "\n",
    "# The indices of the relevant points in the original coordinates"
   ]
  }
 ],
 "metadata": {
  "kernelspec": {
   "display_name": "Python 3",
   "language": "python",
   "name": "python3"
  },
  "language_info": {
   "codemirror_mode": {
    "name": "ipython",
    "version": 3
   },
   "file_extension": ".py",
   "mimetype": "text/x-python",
   "name": "python",
   "nbconvert_exporter": "python",
   "pygments_lexer": "ipython3",
   "version": "3.7.6"
  }
 },
 "nbformat": 4,
 "nbformat_minor": 4
}
