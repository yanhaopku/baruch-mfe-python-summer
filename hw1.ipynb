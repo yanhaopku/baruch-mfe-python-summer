{
 "cells": [
  {
   "cell_type": "markdown",
   "metadata": {},
   "source": [
    "# Homework 1"
   ]
  },
  {
   "cell_type": "markdown",
   "metadata": {},
   "source": [
    "By Yanhao Miao"
   ]
  },
  {
   "cell_type": "markdown",
   "metadata": {},
   "source": [
    "## 1.2 Write a Jupyter Magic"
   ]
  },
  {
   "cell_type": "markdown",
   "metadata": {},
   "source": [
    "Line Magic: count the number of words in a single line\n",
    "\n",
    "Cell Magic: count the number of words in a cell"
   ]
  },
  {
   "cell_type": "code",
   "execution_count": 2,
   "metadata": {},
   "outputs": [],
   "source": [
    "from IPython.core.magic import (register_line_magic, register_cell_magic,\n",
    "                                register_line_cell_magic)"
   ]
  },
  {
   "cell_type": "code",
   "execution_count": 7,
   "metadata": {},
   "outputs": [],
   "source": [
    "@register_line_cell_magic\n",
    "def countwords(line, cell=None):\n",
    "    \"Magic that count the words in a line or cell\"\n",
    "    if cell is None:\n",
    "        print(\"Count the words in a line\")\n",
    "        return len(line.split())\n",
    "    else:\n",
    "        print(\"Count the words in a cell\")\n",
    "        return len(line.split()+cell.split()) \n",
    "    # we should add line and cell, otherwise the first line won't be counted"
   ]
  },
  {
   "cell_type": "code",
   "execution_count": 4,
   "metadata": {
    "scrolled": true
   },
   "outputs": [
    {
     "name": "stdout",
     "output_type": "stream",
     "text": [
      "Count the words in a line\n"
     ]
    },
    {
     "data": {
      "text/plain": [
       "5"
      ]
     },
     "execution_count": 4,
     "metadata": {},
     "output_type": "execute_result"
    }
   ],
   "source": [
    "%countwords this is my first homework"
   ]
  },
  {
   "cell_type": "code",
   "execution_count": 5,
   "metadata": {
    "scrolled": true
   },
   "outputs": [
    {
     "name": "stdout",
     "output_type": "stream",
     "text": [
      "Count the words in a cell\n"
     ]
    },
    {
     "data": {
      "text/plain": [
       "5"
      ]
     },
     "execution_count": 5,
     "metadata": {},
     "output_type": "execute_result"
    }
   ],
   "source": [
    "%%countwords \n",
    "this is a magic\n",
    "cell"
   ]
  },
  {
   "cell_type": "code",
   "execution_count": 8,
   "metadata": {
    "scrolled": true
   },
   "outputs": [
    {
     "name": "stdout",
     "output_type": "stream",
     "text": [
      "Count the words in a cell\n"
     ]
    },
    {
     "data": {
      "text/plain": [
       "16"
      ]
     },
     "execution_count": 8,
     "metadata": {},
     "output_type": "execute_result"
    }
   ],
   "source": [
    "%%countwords this is my first homework\n",
    "this is a magic cell\n",
    "I am happy to learn python"
   ]
  },
  {
   "cell_type": "markdown",
   "metadata": {},
   "source": [
    "## 1.3 Profile the speed of list comprehension vs. for loops"
   ]
  },
  {
   "cell_type": "code",
   "execution_count": 9,
   "metadata": {},
   "outputs": [],
   "source": [
    "oldlist = list(range(1000000))"
   ]
  },
  {
   "cell_type": "markdown",
   "metadata": {},
   "source": [
    "time for list comprehension"
   ]
  },
  {
   "cell_type": "code",
   "execution_count": 10,
   "metadata": {},
   "outputs": [
    {
     "name": "stdout",
     "output_type": "stream",
     "text": [
      "CPU times: user 58.3 ms, sys: 16.5 ms, total: 74.8 ms\n",
      "Wall time: 73.8 ms\n"
     ]
    }
   ],
   "source": [
    "%time newlist1 = [x*2 for x in oldlist]"
   ]
  },
  {
   "cell_type": "markdown",
   "metadata": {},
   "source": [
    "time for loops"
   ]
  },
  {
   "cell_type": "code",
   "execution_count": 11,
   "metadata": {},
   "outputs": [
    {
     "name": "stdout",
     "output_type": "stream",
     "text": [
      "CPU times: user 94 ms, sys: 5.05 ms, total: 99.1 ms\n",
      "Wall time: 97.9 ms\n"
     ]
    }
   ],
   "source": [
    "%%time\n",
    "newlist2 = []\n",
    "for x in oldlist:\n",
    "    newlist2.append(x)"
   ]
  },
  {
   "cell_type": "markdown",
   "metadata": {},
   "source": [
    "the speed of list comprehension is much quicker than using loops"
   ]
  },
  {
   "cell_type": "markdown",
   "metadata": {},
   "source": [
    "## 1.4 Prime numbers"
   ]
  },
  {
   "cell_type": "markdown",
   "metadata": {},
   "source": [
    "Write a function to return all prime numbers in a list. In one line by list comprehension"
   ]
  },
  {
   "cell_type": "code",
   "execution_count": 12,
   "metadata": {},
   "outputs": [],
   "source": [
    "from math import sqrt"
   ]
  },
  {
   "cell_type": "code",
   "execution_count": 13,
   "metadata": {
    "scrolled": true
   },
   "outputs": [],
   "source": [
    "numlist = list(range(100))\n",
    "primenum = [x for x in numlist if (x>=2) and (0 not in [x%a for a in range(2,int(sqrt(x)+1))])]"
   ]
  },
  {
   "cell_type": "code",
   "execution_count": 14,
   "metadata": {
    "scrolled": true
   },
   "outputs": [
    {
     "name": "stdout",
     "output_type": "stream",
     "text": [
      "[2, 3, 5, 7, 11, 13, 17, 19, 23, 29, 31, 37, 41, 43, 47, 53, 59, 61, 67, 71, 73, 79, 83, 89, 97]\n"
     ]
    }
   ],
   "source": [
    "print(primenum) # prime numbers less than 100"
   ]
  },
  {
   "cell_type": "markdown",
   "metadata": {},
   "source": [
    "## 1.5 Extend the Vector class"
   ]
  },
  {
   "cell_type": "markdown",
   "metadata": {},
   "source": [
    "Extend the Vector class example to support any dimension.\n",
    "Think of operations/methods that would be useful when using the Vector class. Do some\n",
    "research on dunder methods to see how you can implement them in a Pythonic way."
   ]
  },
  {
   "cell_type": "markdown",
   "metadata": {},
   "source": [
    "Possible methods including get item, slicing, length, power"
   ]
  },
  {
   "cell_type": "code",
   "execution_count": 15,
   "metadata": {},
   "outputs": [],
   "source": [
    "import numpy as np\n",
    "\n",
    "class Vector:\n",
    "    # extend the Vector class\n",
    "    def __init__(self, *numbers): \n",
    "        \n",
    "        # constructor: avoid the problem of extra axis\n",
    "        # if 'numbers' is a sequence of integer, then store them as np.array\n",
    "        # if 'numbers' is already an np.array, then just store it \n",
    "        \n",
    "        if type(numbers[0]) is int:\n",
    "            self.data = np.array(numbers)\n",
    "        else:\n",
    "            self.data = numbers[0]\n",
    "        self.size = len(self.data)\n",
    "\n",
    "    def __repr__(self):\n",
    "        return f'Vector{tuple(self.data)}'\n",
    "    \n",
    "    def __str__(self):\n",
    "        return f\"Vector{tuple(self.data)}\"\n",
    "\n",
    "    def __add__(self, other): \n",
    "        if self.size != other.size:\n",
    "            print(\"Lengths don't match! please check\")\n",
    "            return\n",
    "        else:\n",
    "            res = self.data + other.data\n",
    "            return Vector(res)\n",
    "\n",
    "    def __mul__(self, scalar):\n",
    "        return Vector(scalar*self.data)\n",
    "    \n",
    "    def __pow__(self, power):\n",
    "        # the power method\n",
    "        return Vector(self.data ** power)\n",
    "    \n",
    "    def __len__(self):\n",
    "        return self.size\n",
    "    \n",
    "    def __getitem__(self, key):\n",
    "        # this method also supplies slicing\n",
    "        if type(key)==int:\n",
    "            if key>=self.size:\n",
    "                print(\"Index out of range!\")\n",
    "            else:\n",
    "                return self.data[key]\n",
    "        else:\n",
    "            return Vector(self.data[key])\n",
    "    "
   ]
  },
  {
   "cell_type": "code",
   "execution_count": 16,
   "metadata": {},
   "outputs": [
    {
     "name": "stdout",
     "output_type": "stream",
     "text": [
      "Vector(1, 2, 3, 4, 5)\n"
     ]
    }
   ],
   "source": [
    "v1 = Vector(1,2,3,4,5) #construction\n",
    "print(v1)"
   ]
  },
  {
   "cell_type": "code",
   "execution_count": 17,
   "metadata": {},
   "outputs": [
    {
     "data": {
      "text/plain": [
       "5"
      ]
     },
     "execution_count": 17,
     "metadata": {},
     "output_type": "execute_result"
    }
   ],
   "source": [
    "len(v1) #length"
   ]
  },
  {
   "cell_type": "code",
   "execution_count": 18,
   "metadata": {},
   "outputs": [
    {
     "data": {
      "text/plain": [
       "Vector(1, 4, 9, 16, 25)"
      ]
     },
     "execution_count": 18,
     "metadata": {},
     "output_type": "execute_result"
    }
   ],
   "source": [
    "v1**2 #power"
   ]
  },
  {
   "cell_type": "code",
   "execution_count": 19,
   "metadata": {},
   "outputs": [
    {
     "data": {
      "text/plain": [
       "4"
      ]
     },
     "execution_count": 19,
     "metadata": {},
     "output_type": "execute_result"
    }
   ],
   "source": [
    "v1[3] #get item"
   ]
  },
  {
   "cell_type": "code",
   "execution_count": 20,
   "metadata": {},
   "outputs": [
    {
     "name": "stdout",
     "output_type": "stream",
     "text": [
      "Index out of range!\n"
     ]
    }
   ],
   "source": [
    "v1[6] # index out of range"
   ]
  },
  {
   "cell_type": "code",
   "execution_count": 21,
   "metadata": {},
   "outputs": [
    {
     "data": {
      "text/plain": [
       "Vector(2, 3)"
      ]
     },
     "execution_count": 21,
     "metadata": {},
     "output_type": "execute_result"
    }
   ],
   "source": [
    "v1[1:3] #slicing"
   ]
  },
  {
   "cell_type": "code",
   "execution_count": 22,
   "metadata": {},
   "outputs": [],
   "source": [
    "v2 = Vector(2,4,6,8,10)"
   ]
  },
  {
   "cell_type": "code",
   "execution_count": 23,
   "metadata": {},
   "outputs": [
    {
     "data": {
      "text/plain": [
       "Vector(3, 6, 9, 12, 15)"
      ]
     },
     "execution_count": 23,
     "metadata": {},
     "output_type": "execute_result"
    }
   ],
   "source": [
    "v1+v2 #add"
   ]
  },
  {
   "cell_type": "markdown",
   "metadata": {},
   "source": [
    "## 1.6 Case-insensitive dictionary"
   ]
  },
  {
   "cell_type": "markdown",
   "metadata": {},
   "source": [
    "Write a CaseInsensitiveDict class that is insensitive to the case of keys.\n",
    "It’s a good idea to inherit from collections.UserDict.\n",
    "Use examples to demonstrate how it should be used."
   ]
  },
  {
   "cell_type": "code",
   "execution_count": 175,
   "metadata": {},
   "outputs": [],
   "source": [
    "# Here, inherit from dictionary\n",
    "\n",
    "class CaseInsensitiveDict(dict):\n",
    "    \n",
    "    # redefine the get item function\n",
    "    def __getitem__(self, key):\n",
    "        for stored_key in self.keys():\n",
    "            if stored_key.lower() == key.lower(): \n",
    "                return self.get(stored_key)\n",
    "        print('Not found!')\n",
    "    \n",
    "    # redefine the set item function to store the original key\n",
    "    def __setitem__(self, key, value):\n",
    "        # set new_key as key, then find whether there is an old version\n",
    "        new_key = key\n",
    "        lower_key = key.lower()\n",
    "        for stored_key in self.keys():\n",
    "            if stored_key.lower() == lower_key:\n",
    "                new_key = stored_key\n",
    "        # update the original key\n",
    "        self.update({new_key: value})"
   ]
  },
  {
   "cell_type": "code",
   "execution_count": 177,
   "metadata": {},
   "outputs": [
    {
     "name": "stdout",
     "output_type": "stream",
     "text": [
      "3\n",
      "{'A': 4}\n",
      "56\n",
      "{'A': 4, 'YanHao': 63}\n"
     ]
    }
   ],
   "source": [
    "# a simple test case\n",
    "d = CaseInsensitiveDict()\n",
    "d['A']=3\n",
    "print(d['a'])\n",
    "d['a']=4\n",
    "print(d)\n",
    "\n",
    "d['YanHao']=56\n",
    "print(d['yAnhAo'])\n",
    "d['yanhao']+=7\n",
    "print(d)"
   ]
  },
  {
   "cell_type": "code",
   "execution_count": null,
   "metadata": {},
   "outputs": [],
   "source": []
  }
 ],
 "metadata": {
  "kernelspec": {
   "display_name": "Python 3",
   "language": "python",
   "name": "python3"
  },
  "language_info": {
   "codemirror_mode": {
    "name": "ipython",
    "version": 3
   },
   "file_extension": ".py",
   "mimetype": "text/x-python",
   "name": "python",
   "nbconvert_exporter": "python",
   "pygments_lexer": "ipython3",
   "version": "3.7.6"
  }
 },
 "nbformat": 4,
 "nbformat_minor": 4
}
